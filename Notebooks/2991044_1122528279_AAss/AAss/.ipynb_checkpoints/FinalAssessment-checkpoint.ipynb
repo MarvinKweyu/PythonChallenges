{
 "cells": [
  {
   "cell_type": "markdown",
   "metadata": {},
   "source": [
    "# Final Assessment\n",
    "\n",
    "Your university is collaborating with a company to develop a tool for processing reports of cases of a particular disease. The company has a very specific way of doing things, and has asked you to design and build a JavaScript object to interact with their proprietary code. Your supervisor wants you to submit an example of your code working within a Jupyter notebook (her preferred environment!) so she can review it before sending it off to the company.\n",
    "\n",
    "Remember - your code will be tested against other input data, so make sure that you are being careful in your assumptions!\n",
    "\n",
    "### Task 1\n",
    "\n",
    "You have been provided with a sample of the case incidence records to help you test your code in the file \"sampleCases.tsv\". The company has done a questionable job of digitising these records, however, and you will need to clean them up a bit before you process them. Remember, .tsv files are \"tab separated values\", meaning that the entries are separated by tabs rather than commas (see [here](https://docs.python.org/3/reference/lexical_analysis.html#literals) for more information).\n",
    "\n",
    "Read in the file and store each record as an element within a list."
   ]
  },
  {
   "cell_type": "code",
   "execution_count": 1,
   "metadata": {},
   "outputs": [
    {
     "name": "stdout",
     "output_type": "stream",
     "text": [
      "[['8.167', '-10.650', '28/03/2014', 'suspected'], ['8.127', '-10.712', '26/05/2014', 'confirmed, presented on 24/05/2014'], ['8.198', '-10. 688', '27/05/2014', 'suspected, contact with case?2'], ['8.227a', '-10.677', '27/05/2014', 'suspected, contact with case 2'], ['8.240', '-10.639', '27/05/2014', 'suspected'], ['8.208', '-10.558', '28/05/2014', 'suspected,,,'], ['8.221', '-10.714', '28/05/2014', 'suspected, contact with case 2'], ['8!251', '-10.691', '28/05/2014', 'confirmed,,contact with case_2'], ['8.191', '-10.659', '28/05/2014', 'confirmed,_contact with case 8'], ['8.192', '_-10.741', '28/05/2014', 'suspected']]\n"
     ]
    }
   ],
   "source": [
    "import csv\n",
    "\n",
    "list_of_records=[]\n",
    "with open(\"sampleCases.tsv\") as tsvfile:\n",
    "    reader = csv.reader(tsvfile,delimiter='\\t')\n",
    "\n",
    "    for row in reader:\n",
    "        list_of_records.append(row[1:])\n",
    "#         print(row[1:]) \n",
    "del list_of_records[0]\n",
    "print(list_of_records)\n"
   ]
  },
  {
   "cell_type": "markdown",
   "metadata": {},
   "source": [
    "### Task 2\n",
    "\n",
    "If you look at the records, you find that the latitudes and longitudes of cases are sometimes formatted strangely - apparently the automatic text recognitition software used by the company has a few bugs in it! Go through the records and prompt the user to input the corrected values in cases where the elements cannot be processed as numbers."
   ]
  },
  {
   "cell_type": "code",
   "execution_count": 2,
   "metadata": {
    "scrolled": true
   },
   "outputs": [
    {
     "name": "stdout",
     "output_type": "stream",
     "text": [
      "Stored 'df' (DataFrame)\n",
      "Enter a correct value to replace latitude 8.227a : 8.227\n",
      "Enter a correct value to replace latitude 8!251 : 8.251\n",
      "Enter a correct value to replace longutude -10. 688 : -10.688\n",
      "Enter a correct value to replace longutude _-10.741 : -10.741\n",
      "\n",
      "\n",
      "   id    lat      lon        date                               notes\n",
      "0   1  8.167  -10.650  28/03/2014                           suspected\n",
      "1   2  8.127  -10.712  26/05/2014  confirmed, presented on 24/05/2014\n",
      "2   3  8.198  -10.688  27/05/2014      suspected, contact with case?2\n",
      "3   4  8.227  -10.677  27/05/2014      suspected, contact with case 2\n",
      "4   5  8.240  -10.639  27/05/2014                           suspected\n",
      "5   6  8.208  -10.558  28/05/2014                        suspected,,,\n",
      "6   7  8.221  -10.714  28/05/2014      suspected, contact with case 2\n",
      "7   8  8.251  -10.691  28/05/2014      confirmed,,contact with case_2\n",
      "8   9  8.191  -10.659  28/05/2014      confirmed,_contact with case 8\n",
      "9  10  8.192  -10.741  28/05/2014                           suspected\n"
     ]
    }
   ],
   "source": [
    "import pandas as pd\n",
    "import re\n",
    "\n",
    "df = pd.read_csv(\"sampleCases.tsv\",sep=\"\\t\")\n",
    "\n",
    "%store df #store for later use\n",
    "\n",
    "#replace wrong values for latitude\n",
    "for item in df['lat']:\n",
    "    if re.search(\"[^0-9.-]\",item): #if item has anything other than a number,negative sign or decimal point\n",
    "        item_replacement = input(\"Enter a correct value to replace latitude {} : \".format(item))\n",
    "        df.loc[df[\"lat\"]==item,['lat']]=item_replacement\n",
    "\n",
    "#replace wrong values for longitude\n",
    "for item in df['lon']:\n",
    "    if re.search(\"[^0-9.-]\",item): #if item has anything other than a number,negative sign or decimal point\n",
    "        item_replacement = input(\"Enter a correct value to replace longutude {} : \".format(item))\n",
    "        df.loc[df[\"lon\"]==item,['lon']]=item_replacement\n",
    "print(\"\\n\")\n",
    "print(df)\n",
    "        "
   ]
  },
  {
   "cell_type": "markdown",
   "metadata": {},
   "source": [
    "### Task 3\n",
    "\n",
    "It's time to format the data so that you can transfer it to the JavaScript portion of your work. You'll need to copy over the latitudes and longitudes. You may format these as a set of dictionaries, a pair of lists, or some other structure - it is up to you. "
   ]
  },
  {
   "cell_type": "code",
   "execution_count": 33,
   "metadata": {},
   "outputs": [
    {
     "name": "stdout",
     "output_type": "stream",
     "text": [
      "{'-10.650': '8.167', '-10.712': '8.127', '-10.688': '8.198', '-10.677': '8.227', '-10.639': '8.240', '-10.558': '8.208', '-10.714': '8.221', '-10.691': '8.251', '-10.659': '8.191', '-10.741': '8.192'}\n"
     ]
    }
   ],
   "source": [
    "location_dictionary=dict(zip(df['lon'],df['lat']))\n",
    "print(location_dictionary) #paired as longitude:latitude"
   ]
  },
  {
   "cell_type": "markdown",
   "metadata": {},
   "source": [
    "### Task 4\n",
    "\n",
    "The company wants you to create a kind of object called a `CaseStudy` to help them deal with all of the records associated with this file. In the future, they will use other `CaseStudy` objects to compare this set of data with other sets of data. But in this case, you just want to test creating a single `CaseStudy` and using its functions. \n",
    "\n",
    "The `CaseStudy` object should be able to:\n",
    "\n",
    "* return its geographic extent (the minimum and maximum of both latitude and longitude) as a list (e.g. `[min_lat, max_lat, min_lon, max_lon]`)\n",
    "* return the weighted centroid of the points as a list (e.g. `[cent_lat, cent_lon]`)\n",
    "\n",
    "The `CaseStudy` object should also have attributes to hold:\n",
    "\n",
    "* the name of the case study (a string)\n",
    "* the year in which the case study was conducted (an integer)\n",
    "* a value indicating whether the company took part in gathering the data (a boolean)\n",
    "\n",
    "Your supervisor would like for you to create the instance of `CaseStudy` based on the data given here, calculate both the geographic extent and the weighted centroid, and export those two values back to your Python environment. You may set the name, year, and participation values of the `CaseStudy` to whatever you like."
   ]
  },
  {
   "cell_type": "code",
   "execution_count": null,
   "metadata": {
    "collapsed": true
   },
   "outputs": [],
   "source": [
    "%%javascript\n",
    "\n",
    "// you can use this to test/practice your JavaScript!"
   ]
  },
  {
   "cell_type": "code",
   "execution_count": null,
   "metadata": {},
   "outputs": [],
   "source": [
    "from IPython.display import display, Javascript\n",
    "\n",
    "display(Javascript(\"\"\"var someval = 3, someotherval = 5;\n",
    "IPython.notebook.kernel.execute('SOMEVAL=' + someval + ';');\n",
    "IPython.notebook.kernel.execute('SOMEOTHERVAL=' + someotherval + ';');\n",
    "\"\"\" % \"\"))"
   ]
  },
  {
   "cell_type": "markdown",
   "metadata": {},
   "source": [
    "### Task 5\n",
    "\n",
    "As a final step, write out the geographic extent, centroid, and the original filename of the data to a file named \"output.txt\"."
   ]
  },
  {
   "cell_type": "code",
   "execution_count": null,
   "metadata": {
    "scrolled": true
   },
   "outputs": [],
   "source": []
  }
 ],
 "metadata": {
  "kernelspec": {
   "display_name": "Python 3",
   "language": "python",
   "name": "python3"
  },
  "language_info": {
   "codemirror_mode": {
    "name": "ipython",
    "version": 3
   },
   "file_extension": ".py",
   "mimetype": "text/x-python",
   "name": "python",
   "nbconvert_exporter": "python",
   "pygments_lexer": "ipython3",
   "version": "3.7.1"
  }
 },
 "nbformat": 4,
 "nbformat_minor": 2
}
